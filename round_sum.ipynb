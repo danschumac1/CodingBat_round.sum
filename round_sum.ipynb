{
 "cells": [
  {
   "cell_type": "markdown",
   "id": "55116ef7",
   "metadata": {},
   "source": [
    "# Logic-2 > round_sum"
   ]
  },
  {
   "cell_type": "markdown",
   "id": "5eab35c3",
   "metadata": {},
   "source": [
    "\n",
    "For this problem, we'll round an int value up to the next multiple of 10 if its rightmost digit is 5 or more, so 15 rounds up to 20. Alternately, round down to the previous multiple of 10 if its rightmost digit is less than 5, so 12 rounds down to 10. Given 3 ints, a b c, return the sum of their rounded values. To avoid code repetition, write a separate helper \"def round10(num):\" and call it 3 times. Write the helper entirely below and at the same indent level as round_sum().\n",
    "\n",
    "\n",
    "round_sum(16, 17, 18) → 60\n",
    "\n",
    "round_sum(12, 13, 14) → 30\n",
    "\n",
    "round_sum(6, 4, 4) → 10"
   ]
  },
  {
   "cell_type": "code",
   "execution_count": 1,
   "id": "a596f7d6",
   "metadata": {},
   "outputs": [],
   "source": [
    "def round_sum(a, b, c):\n",
    "  \n",
    "  def round10(num):\n",
    "    \n",
    "    #if number needs to round up\n",
    "    if num%10>=5:\n",
    "      round_sum = 10-num%10\n",
    "      num+= round_sum\n",
    "      \n",
    "    #if number needs to round down\n",
    "    else:\n",
    "      num -= num%10\n",
    "      \n",
    "    return num\n",
    "    \n",
    "  return (round10(a) + round10(b) + round10(c))"
   ]
  }
 ],
 "metadata": {
  "kernelspec": {
   "display_name": "Python 3 (ipykernel)",
   "language": "python",
   "name": "python3"
  },
  "language_info": {
   "codemirror_mode": {
    "name": "ipython",
    "version": 3
   },
   "file_extension": ".py",
   "mimetype": "text/x-python",
   "name": "python",
   "nbconvert_exporter": "python",
   "pygments_lexer": "ipython3",
   "version": "3.9.12"
  }
 },
 "nbformat": 4,
 "nbformat_minor": 5
}
